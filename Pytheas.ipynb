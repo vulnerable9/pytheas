{
 "cells": [
  {
   "cell_type": "raw",
   "id": "2cd84cef-89dd-4b30-8fd6-be652defd4bd",
   "metadata": {},
   "source": [
    "Pytheas is a Python based Wikipedia viewer."
   ]
  },
  {
   "cell_type": "code",
   "execution_count": null,
   "id": "b608cd0e-79ea-4224-a270-ff666b83816b",
   "metadata": {
    "editable": true,
    "slideshow": {
     "slide_type": ""
    },
    "tags": []
   },
   "outputs": [],
   "source": [
    "!pip install wikipedia"
   ]
  },
  {
   "cell_type": "code",
   "execution_count": null,
   "id": "4a0092b3-ba76-4753-a469-89eb0affd160",
   "metadata": {},
   "outputs": [],
   "source": [
    "import wikipedia\n",
    "print(\"Welcome to Pytheas\")\n",
    "search = input(\"Enter Search Query - \")\n",
    "print(\"\\n\")\n",
    "wikipedia.summary(search)"
   ]
  }
 ],
 "metadata": {
  "kernelspec": {
   "display_name": "Python 3 (ipykernel)",
   "language": "python",
   "name": "python3"
  },
  "language_info": {
   "codemirror_mode": {
    "name": "ipython",
    "version": 3
   },
   "file_extension": ".py",
   "mimetype": "text/x-python",
   "name": "python",
   "nbconvert_exporter": "python",
   "pygments_lexer": "ipython3",
   "version": "3.11.2"
  }
 },
 "nbformat": 4,
 "nbformat_minor": 5
}
